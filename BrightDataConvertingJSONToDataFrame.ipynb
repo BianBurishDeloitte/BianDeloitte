{
 "cells": [
  {
   "cell_type": "code",
   "execution_count": 1,
   "id": "d8ce8fa0",
   "metadata": {},
   "outputs": [],
   "source": [
    "import json\n",
    "import pandas as pd\n"
   ]
  },
  {
   "cell_type": "code",
   "execution_count": 2,
   "id": "fde8167c",
   "metadata": {},
   "outputs": [
    {
     "data": {
      "text/html": [
       "<div>\n",
       "<style scoped>\n",
       "    .dataframe tbody tr th:only-of-type {\n",
       "        vertical-align: middle;\n",
       "    }\n",
       "\n",
       "    .dataframe tbody tr th {\n",
       "        vertical-align: top;\n",
       "    }\n",
       "\n",
       "    .dataframe thead th {\n",
       "        text-align: right;\n",
       "    }\n",
       "</style>\n",
       "<table border=\"1\" class=\"dataframe\">\n",
       "  <thead>\n",
       "    <tr style=\"text-align: right;\">\n",
       "      <th></th>\n",
       "      <th>_id</th>\n",
       "      <th>customer_id</th>\n",
       "      <th>type</th>\n",
       "      <th>insert_ts</th>\n",
       "      <th>date</th>\n",
       "      <th>eff_date</th>\n",
       "      <th>bw</th>\n",
       "      <th>calc_cost</th>\n",
       "      <th>period</th>\n",
       "      <th>insert_by</th>\n",
       "      <th>...</th>\n",
       "      <th>amount_bonus</th>\n",
       "      <th>no_vat_amount</th>\n",
       "      <th>vat_rates</th>\n",
       "      <th>priority</th>\n",
       "      <th>avalara</th>\n",
       "      <th>balance</th>\n",
       "      <th>balance_bonus</th>\n",
       "      <th>balance_real</th>\n",
       "      <th>attachment</th>\n",
       "      <th>sent</th>\n",
       "    </tr>\n",
       "  </thead>\n",
       "  <tbody>\n",
       "    <tr>\n",
       "      <th>0</th>\n",
       "      <td>63b0dde91a371ef300aad0a1</td>\n",
       "      <td>hl_7527bb07</td>\n",
       "      <td>m_bill</td>\n",
       "      <td>2023-01-01T01:12:09.623Z</td>\n",
       "      <td>2023-01-01 00:00:00+00:00</td>\n",
       "      <td>2022-12-31T00:00:00.000Z</td>\n",
       "      <td>24.062437</td>\n",
       "      <td>{'cname': 'wuqiming', 'cid': 'hl_7527bb07', 'p...</td>\n",
       "      <td>{'from': '2022-12-01T00:00:00.000Z', 'to': '20...</td>\n",
       "      <td>monthly_charge</td>\n",
       "      <td>...</td>\n",
       "      <td>0</td>\n",
       "      <td>-522.01</td>\n",
       "      <td>{'avg': 0, 'dc': 0, 'res_static': 0, 'res_rota...</td>\n",
       "      <td>{'id': 'lum252535529623', 'account_num': '1961...</td>\n",
       "      <td>{'link_blocker': 'bevent is for non-avalara ta...</td>\n",
       "      <td>27.99</td>\n",
       "      <td>0</td>\n",
       "      <td>27.99</td>\n",
       "      <td>{'path': '/media/invoices/2023_01/01/1961606_l...</td>\n",
       "      <td>{'date': '2023-01-02T20:53:02.060Z', 'login': ...</td>\n",
       "    </tr>\n",
       "  </tbody>\n",
       "</table>\n",
       "<p>1 rows × 25 columns</p>\n",
       "</div>"
      ],
      "text/plain": [
       "                        _id  customer_id    type                 insert_ts  \\\n",
       "0  63b0dde91a371ef300aad0a1  hl_7527bb07  m_bill  2023-01-01T01:12:09.623Z   \n",
       "\n",
       "                       date                  eff_date         bw  \\\n",
       "0 2023-01-01 00:00:00+00:00  2022-12-31T00:00:00.000Z  24.062437   \n",
       "\n",
       "                                           calc_cost  \\\n",
       "0  {'cname': 'wuqiming', 'cid': 'hl_7527bb07', 'p...   \n",
       "\n",
       "                                              period       insert_by  ...  \\\n",
       "0  {'from': '2022-12-01T00:00:00.000Z', 'to': '20...  monthly_charge  ...   \n",
       "\n",
       "   amount_bonus no_vat_amount  \\\n",
       "0             0       -522.01   \n",
       "\n",
       "                                           vat_rates  \\\n",
       "0  {'avg': 0, 'dc': 0, 'res_static': 0, 'res_rota...   \n",
       "\n",
       "                                            priority  \\\n",
       "0  {'id': 'lum252535529623', 'account_num': '1961...   \n",
       "\n",
       "                                             avalara  balance  balance_bonus  \\\n",
       "0  {'link_blocker': 'bevent is for non-avalara ta...    27.99              0   \n",
       "\n",
       "  balance_real                                         attachment  \\\n",
       "0        27.99  {'path': '/media/invoices/2023_01/01/1961606_l...   \n",
       "\n",
       "                                                sent  \n",
       "0  {'date': '2023-01-02T20:53:02.060Z', 'login': ...  \n",
       "\n",
       "[1 rows x 25 columns]"
      ]
     },
     "execution_count": 2,
     "metadata": {},
     "output_type": "execute_result"
    }
   ],
   "source": [
    "## open with simple datframe with incorrect importing\n",
    "\n",
    "data = pd.read_json('auto_mly_bill_trans - Copy.json')\n",
    "\n",
    "data"
   ]
  },
  {
   "cell_type": "markdown",
   "id": "3266a11d",
   "metadata": {},
   "source": [
    "## open with simple json\n",
    "with open('auto_mly_bill_trans - Copy.json', 'r') as f:\n",
    "    data = json.load(f)\n",
    "\n",
    "print(data)"
   ]
  },
  {
   "cell_type": "code",
   "execution_count": 9,
   "id": "6c2d8366",
   "metadata": {},
   "outputs": [],
   "source": [
    "# read in JSON file\n",
    "with open('auto_mly_bill_trans - Copy.json') as f:\n",
    "    billing_record = json.load(f)\n"
   ]
  },
  {
   "cell_type": "code",
   "execution_count": 6,
   "id": "19ec350e",
   "metadata": {},
   "outputs": [
    {
     "ename": "TypeError",
     "evalue": "string indices must be integers",
     "output_type": "error",
     "traceback": [
      "\u001b[1;31m---------------------------------------------------------------------------\u001b[0m",
      "\u001b[1;31mTypeError\u001b[0m                                 Traceback (most recent call last)",
      "\u001b[1;32m~\\AppData\\Local\\Temp\\ipykernel_22564\\953760107.py\u001b[0m in \u001b[0;36m<module>\u001b[1;34m\u001b[0m\n\u001b[0;32m      7\u001b[0m \u001b[1;33m\u001b[0m\u001b[0m\n\u001b[0;32m      8\u001b[0m     \u001b[1;31m# add fields to the record\u001b[0m\u001b[1;33m\u001b[0m\u001b[1;33m\u001b[0m\u001b[0m\n\u001b[1;32m----> 9\u001b[1;33m     \u001b[0mrecord\u001b[0m\u001b[1;33m[\u001b[0m\u001b[1;34m'_id'\u001b[0m\u001b[1;33m]\u001b[0m \u001b[1;33m=\u001b[0m \u001b[0mbilling_record\u001b[0m\u001b[1;33m[\u001b[0m\u001b[1;34m'_id'\u001b[0m\u001b[1;33m]\u001b[0m\u001b[1;33m\u001b[0m\u001b[1;33m\u001b[0m\u001b[0m\n\u001b[0m\u001b[0;32m     10\u001b[0m     \u001b[0mrecord\u001b[0m\u001b[1;33m[\u001b[0m\u001b[1;34m'customer_id'\u001b[0m\u001b[1;33m]\u001b[0m \u001b[1;33m=\u001b[0m \u001b[0mbilling_record\u001b[0m\u001b[1;33m[\u001b[0m\u001b[1;34m'customer_id'\u001b[0m\u001b[1;33m]\u001b[0m\u001b[1;33m\u001b[0m\u001b[1;33m\u001b[0m\u001b[0m\n\u001b[0;32m     11\u001b[0m     \u001b[0mrecord\u001b[0m\u001b[1;33m[\u001b[0m\u001b[1;34m'type'\u001b[0m\u001b[1;33m]\u001b[0m \u001b[1;33m=\u001b[0m \u001b[0mbilling_record\u001b[0m\u001b[1;33m[\u001b[0m\u001b[1;34m'type'\u001b[0m\u001b[1;33m]\u001b[0m\u001b[1;33m\u001b[0m\u001b[1;33m\u001b[0m\u001b[0m\n",
      "\u001b[1;31mTypeError\u001b[0m: string indices must be integers"
     ]
    }
   ],
   "source": [
    "\n",
    "# create an empty dataframe to store the records\n",
    "records = pd.DataFrame()\n",
    "\n",
    "# loop through each billing record and add fields to the record\n",
    "for billing_record in billing_record:\n",
    "    record = {}\n",
    "    \n",
    "    # add fields to the record\n",
    "    record['_id'] = billing_record['_id']\n",
    "    record['customer_id'] = billing_record['customer_id']\n",
    "    record['type'] = billing_record['type']\n",
    "    record['insert_ts'] = billing_record['insert_ts']\n",
    "    record['date'] = billing_record['date']\n",
    "    record['eff_date'] = billing_record['eff_date']\n",
    "    record['bw'] = billing_record['bw']\n",
    "    record['cname'] = billing_record['calc_cost']['cname']\n",
    "    record['cid'] = billing_record['calc_cost']['cid']\n",
    "    record['subtotal'] = billing_record['calc_cost']['subtotal']\n",
    "    \n",
    "    # check if the 'vat' field is present in the billing record\n",
    "    if 'vat' in billing_record['calc_cost']:\n",
    "        record['vat'] = billing_record['calc_cost']['vat']\n",
    "    \n",
    "    record['total'] = billing_record['calc_cost']['total']\n",
    "    \n",
    "    # check if the 'gusage' field is present in the billing record\n",
    "    if 'gusage' in billing_record:\n",
    "        record['sum'] = billing_record['gusage']['sum']\n",
    "    \n",
    "    # add breakdown of costs associated with different services or time periods to the record\n",
    "    if 'breakdown' in billing_record['calc_cost']:\n",
    "        for breakdown in billing_record['calc_cost']['breakdown']:\n",
    "            for key, value in breakdown.items():\n",
    "                record[f\"calc_cost_breakdown_{key}\"] = value\n",
    "    \n",
    "    records = records.append(record, ignore_index=True)\n",
    "    \n"
   ]
  },
  {
   "cell_type": "code",
   "execution_count": null,
   "id": "e4645f42",
   "metadata": {},
   "outputs": [],
   "source": [
    "df = pd.DataFrame(records)\n",
    "df.head()"
   ]
  }
 ],
 "metadata": {
  "kernelspec": {
   "display_name": "Python 3 (ipykernel)",
   "language": "python",
   "name": "python3"
  },
  "language_info": {
   "codemirror_mode": {
    "name": "ipython",
    "version": 3
   },
   "file_extension": ".py",
   "mimetype": "text/x-python",
   "name": "python",
   "nbconvert_exporter": "python",
   "pygments_lexer": "ipython3",
   "version": "3.9.13"
  }
 },
 "nbformat": 4,
 "nbformat_minor": 5
}
